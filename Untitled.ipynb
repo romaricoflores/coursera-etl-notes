{
 "cells": [
  {
   "cell_type": "code",
   "execution_count": 4,
   "id": "2f83416b",
   "metadata": {},
   "outputs": [
    {
     "name": "stdout",
     "output_type": "stream",
     "text": [
      "Defaulting to user installation because normal site-packages is not writeable\n",
      "Obtaining prettymaps from git+https://github.com/marceloprates/prettymaps#egg=prettymaps\n",
      "  Updating c:\\users\\flore\\documents\\github\\coursera-etl-notes\\src\\prettymaps clone\n",
      "Requirement already satisfied: osmnx==1.2.2 in c:\\users\\flore\\appdata\\roaming\\python\\python39\\site-packages (from prettymaps) (1.2.2)\n",
      "Requirement already satisfied: Shapely<2.0,>=1.8 in c:\\users\\flore\\appdata\\roaming\\python\\python39\\site-packages (from prettymaps) (1.8.5.post1)\n",
      "Requirement already satisfied: pyyaml==6.0.0 in c:\\program files\\arcgis\\pro\\bin\\python\\envs\\arcgispro-py3\\lib\\site-packages (from prettymaps) (6.0)\n",
      "Requirement already satisfied: Rtree>=1.0 in c:\\users\\flore\\appdata\\roaming\\python\\python39\\site-packages (from osmnx==1.2.2->prettymaps) (1.0.1)\n",
      "Requirement already satisfied: geopandas>=0.11 in c:\\users\\flore\\appdata\\roaming\\python\\python39\\site-packages (from osmnx==1.2.2->prettymaps) (0.12.2)\n",
      "Requirement already satisfied: pandas>=1.4 in c:\\users\\flore\\appdata\\roaming\\python\\python39\\site-packages (from osmnx==1.2.2->prettymaps) (1.5.3)\n",
      "Requirement already satisfied: requests>=2.28 in c:\\users\\flore\\appdata\\roaming\\python\\python39\\site-packages (from osmnx==1.2.2->prettymaps) (2.28.2)\n",
      "Requirement already satisfied: networkx>=2.8 in c:\\users\\flore\\appdata\\roaming\\python\\python39\\site-packages (from osmnx==1.2.2->prettymaps) (3.0)\n",
      "Requirement already satisfied: pyproj>=3.3 in c:\\users\\flore\\appdata\\roaming\\python\\python39\\site-packages (from osmnx==1.2.2->prettymaps) (3.4.1)\n",
      "Requirement already satisfied: matplotlib>=3.5 in c:\\users\\flore\\appdata\\roaming\\python\\python39\\site-packages (from osmnx==1.2.2->prettymaps) (3.7.0)\n",
      "Requirement already satisfied: numpy>=1.22 in c:\\users\\flore\\appdata\\roaming\\python\\python39\\site-packages (from osmnx==1.2.2->prettymaps) (1.24.2)\n",
      "Requirement already satisfied: fiona>=1.8 in c:\\users\\flore\\appdata\\roaming\\python\\python39\\site-packages (from geopandas>=0.11->osmnx==1.2.2->prettymaps) (1.9.1)\n",
      "Requirement already satisfied: packaging in c:\\program files\\arcgis\\pro\\bin\\python\\envs\\arcgispro-py3\\lib\\site-packages (from geopandas>=0.11->osmnx==1.2.2->prettymaps) (21.3)\n",
      "Requirement already satisfied: munch>=2.3.2 in c:\\users\\flore\\appdata\\roaming\\python\\python39\\site-packages (from fiona>=1.8->geopandas>=0.11->osmnx==1.2.2->prettymaps) (2.5.0)\n",
      "Requirement already satisfied: setuptools in c:\\program files\\arcgis\\pro\\bin\\python\\envs\\arcgispro-py3\\lib\\site-packages (from fiona>=1.8->geopandas>=0.11->osmnx==1.2.2->prettymaps) (60.10.0)\n",
      "Requirement already satisfied: certifi in c:\\program files\\arcgis\\pro\\bin\\python\\envs\\arcgispro-py3\\lib\\site-packages (from fiona>=1.8->geopandas>=0.11->osmnx==1.2.2->prettymaps) (2021.10.8)\n",
      "Requirement already satisfied: click~=8.0 in c:\\program files\\arcgis\\pro\\bin\\python\\envs\\arcgispro-py3\\lib\\site-packages (from fiona>=1.8->geopandas>=0.11->osmnx==1.2.2->prettymaps) (8.0.4)\n",
      "Requirement already satisfied: attrs>=19.2.0 in c:\\program files\\arcgis\\pro\\bin\\python\\envs\\arcgispro-py3\\lib\\site-packages (from fiona>=1.8->geopandas>=0.11->osmnx==1.2.2->prettymaps) (21.4.0)\n",
      "Requirement already satisfied: cligj>=0.5 in c:\\users\\flore\\appdata\\roaming\\python\\python39\\site-packages (from fiona>=1.8->geopandas>=0.11->osmnx==1.2.2->prettymaps) (0.7.2)\n",
      "Requirement already satisfied: click-plugins>=1.0 in c:\\users\\flore\\appdata\\roaming\\python\\python39\\site-packages (from fiona>=1.8->geopandas>=0.11->osmnx==1.2.2->prettymaps) (1.1.1)\n",
      "Requirement already satisfied: colorama in c:\\program files\\arcgis\\pro\\bin\\python\\envs\\arcgispro-py3\\lib\\site-packages (from click~=8.0->fiona>=1.8->geopandas>=0.11->osmnx==1.2.2->prettymaps) (0.4.4)\n",
      "Requirement already satisfied: cycler>=0.10 in c:\\program files\\arcgis\\pro\\bin\\python\\envs\\arcgispro-py3\\lib\\site-packages (from matplotlib>=3.5->osmnx==1.2.2->prettymaps) (0.11.0)\n",
      "Requirement already satisfied: kiwisolver>=1.0.1 in c:\\program files\\arcgis\\pro\\bin\\python\\envs\\arcgispro-py3\\lib\\site-packages (from matplotlib>=3.5->osmnx==1.2.2->prettymaps) (1.3.2)\n",
      "Requirement already satisfied: pillow>=6.2.0 in c:\\program files\\arcgis\\pro\\bin\\python\\envs\\arcgispro-py3\\lib\\site-packages (from matplotlib>=3.5->osmnx==1.2.2->prettymaps) (9.1.0)\n",
      "Requirement already satisfied: contourpy>=1.0.1 in c:\\users\\flore\\appdata\\roaming\\python\\python39\\site-packages (from matplotlib>=3.5->osmnx==1.2.2->prettymaps) (1.0.7)\n",
      "Requirement already satisfied: fonttools>=4.22.0 in c:\\users\\flore\\appdata\\roaming\\python\\python39\\site-packages (from matplotlib>=3.5->osmnx==1.2.2->prettymaps) (4.38.0)\n",
      "Requirement already satisfied: python-dateutil>=2.7 in c:\\program files\\arcgis\\pro\\bin\\python\\envs\\arcgispro-py3\\lib\\site-packages (from matplotlib>=3.5->osmnx==1.2.2->prettymaps) (2.8.2)\n",
      "Requirement already satisfied: importlib-resources>=3.2.0 in c:\\users\\flore\\appdata\\roaming\\python\\python39\\site-packages (from matplotlib>=3.5->osmnx==1.2.2->prettymaps) (5.12.0)\n",
      "Requirement already satisfied: pyparsing>=2.3.1 in c:\\program files\\arcgis\\pro\\bin\\python\\envs\\arcgispro-py3\\lib\\site-packages (from matplotlib>=3.5->osmnx==1.2.2->prettymaps) (3.0.4)\n",
      "Requirement already satisfied: zipp>=3.1.0 in c:\\program files\\arcgis\\pro\\bin\\python\\envs\\arcgispro-py3\\lib\\site-packages (from importlib-resources>=3.2.0->matplotlib>=3.5->osmnx==1.2.2->prettymaps) (3.7.0)\n",
      "Requirement already satisfied: six in c:\\program files\\arcgis\\pro\\bin\\python\\envs\\arcgispro-py3\\lib\\site-packages (from munch>=2.3.2->fiona>=1.8->geopandas>=0.11->osmnx==1.2.2->prettymaps) (1.16.0)\n",
      "Requirement already satisfied: pytz>=2020.1 in c:\\program files\\arcgis\\pro\\bin\\python\\envs\\arcgispro-py3\\lib\\site-packages\\pytz-2022.1-py3.9.egg (from pandas>=1.4->osmnx==1.2.2->prettymaps) (2022.1)\n",
      "Requirement already satisfied: idna<4,>=2.5 in c:\\program files\\arcgis\\pro\\bin\\python\\envs\\arcgispro-py3\\lib\\site-packages (from requests>=2.28->osmnx==1.2.2->prettymaps) (3.3)\n",
      "Requirement already satisfied: urllib3<1.27,>=1.21.1 in c:\\program files\\arcgis\\pro\\bin\\python\\envs\\arcgispro-py3\\lib\\site-packages (from requests>=2.28->osmnx==1.2.2->prettymaps) (1.26.8)\n",
      "Requirement already satisfied: charset-normalizer<4,>=2 in c:\\program files\\arcgis\\pro\\bin\\python\\envs\\arcgispro-py3\\lib\\site-packages (from requests>=2.28->osmnx==1.2.2->prettymaps) (2.0.4)\n",
      "Installing collected packages: prettymaps\n",
      "  Attempting uninstall: prettymaps\n",
      "    Found existing installation: prettymaps 1.0.0\n",
      "    Uninstalling prettymaps-1.0.0:\n",
      "      Successfully uninstalled prettymaps-1.0.0\n",
      "  Running setup.py develop for prettymaps\n",
      "Successfully installed prettymaps\n"
     ]
    },
    {
     "name": "stderr",
     "output_type": "stream",
     "text": [
      "  Running command git fetch -q --tags\n",
      "  Running command git reset --hard -q dc90176911035d8e35a0c1e050d7cf87047358e8\n"
     ]
    }
   ],
   "source": [
    "!pip install -e \"git+https://github.com/marceloprates/prettymaps#egg=prettymaps\""
   ]
  },
  {
   "cell_type": "code",
   "execution_count": null,
   "id": "90b3055c",
   "metadata": {},
   "outputs": [],
   "source": []
  }
 ],
 "metadata": {
  "kernelspec": {
   "display_name": "Python 3",
   "language": "python",
   "name": "python3"
  },
  "language_info": {
   "codemirror_mode": {
    "name": "ipython",
    "version": 3
   },
   "file_extension": ".py",
   "mimetype": "text/x-python",
   "name": "python",
   "nbconvert_exporter": "python",
   "pygments_lexer": "ipython3",
   "version": "3.9.11"
  }
 },
 "nbformat": 4,
 "nbformat_minor": 5
}
