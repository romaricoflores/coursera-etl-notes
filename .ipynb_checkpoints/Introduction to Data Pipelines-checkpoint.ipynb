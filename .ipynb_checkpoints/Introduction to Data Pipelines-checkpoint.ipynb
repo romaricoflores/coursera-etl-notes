{
 "cells": [
  {
   "cell_type": "markdown",
   "id": "699e6120",
   "metadata": {},
   "source": [
    "### Introduction to Data Pipelines\n",
    "#### Pipeline\n",
    "* Series of connected processes\n",
    "* Output of one process is input of the next\n",
    "* Includes low-level hardware architecture\n",
    "* Software-driven processes - commands, programs, and threads\n",
    "* Bash 'pipe' command can connect such processes together\n",
    "\n"
   ]
  }
 ],
 "metadata": {
  "kernelspec": {
   "display_name": "Python 3",
   "language": "python",
   "name": "python3"
  },
  "language_info": {
   "codemirror_mode": {
    "name": "ipython",
    "version": 3
   },
   "file_extension": ".py",
   "mimetype": "text/x-python",
   "name": "python",
   "nbconvert_exporter": "python",
   "pygments_lexer": "ipython3",
   "version": "3.9.11"
  }
 },
 "nbformat": 4,
 "nbformat_minor": 5
}
