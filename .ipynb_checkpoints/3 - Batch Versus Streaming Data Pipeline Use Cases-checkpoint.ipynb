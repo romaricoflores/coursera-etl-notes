{
 "cells": [
  {
   "cell_type": "markdown",
   "id": "04ed1e77",
   "metadata": {},
   "source": [
    "### Batch Versus Streaming Data Pipeline Use Cases\n",
    "\n",
    "#### Batch Data Pipelines\n",
    "- Can be initiated based on data size or other triggers\n",
    "- Used when latest data isn't needed\n",
    "- Typical choice when accuracy is critical\n",
    "\n",
    "#### Streaming Data Pipelines\n",
    "- Ingest data packets in rapid succession\n",
    "- For real-time results\n",
    "- Records/events proecssed as they happen\n",
    "- Event streams can be loaded to storage\n",
    "- Users publish/subscrive to event streams\n",
    "\n",
    "#### Micro-batch Data Pipelines\n",
    "- Tiny micro-batches and faster processing simulate real-time processin\n",
    "- Smaller batches improve load balancing, lower latency\n",
    "- When short windows of data are required for transformations\n",
    "\n",
    "#### Summary:\n",
    "- Tradeoff between accuracy and latency\n",
    "- Data cleaning improves quality, but increases latency\n",
    "- Lowering latency increases potential for errors\n",
    "\n",
    "### Lambda Architecture\n",
    "\n",
    "- A hybrid architecture designed for handling data\n",
    "- Combines batch and streaming data pipeline methods\n",
    "- Historical is delivered in batches and Real time data is streamed through speed layer\n",
    "- Final node is called a serving layer\n",
    "\n",
    "#### Summary\n",
    "- Data stream fills in latency gap\n",
    "- Used when data window is needed but speed is critical\n",
    "- Drawback is the complexity of implementation"
   ]
  }
 ],
 "metadata": {
  "kernelspec": {
   "display_name": "Python 3",
   "language": "python",
   "name": "python3"
  },
  "language_info": {
   "codemirror_mode": {
    "name": "ipython",
    "version": 3
   },
   "file_extension": ".py",
   "mimetype": "text/x-python",
   "name": "python",
   "nbconvert_exporter": "python",
   "pygments_lexer": "ipython3",
   "version": "3.9.11"
  }
 },
 "nbformat": 4,
 "nbformat_minor": 5
}
