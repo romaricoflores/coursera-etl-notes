{
 "cells": [
  {
   "cell_type": "markdown",
   "id": "498ac1ab",
   "metadata": {},
   "source": [
    "### Introduction to Data Pipelines\n",
    "#### Pipeline\n",
    "* Series of connected processes\n",
    "* Output of one process is input of the next\n",
    "* Includes low-level hardware architecture\n",
    "* Software-driven processes - commands, programs, and threads\n",
    "* Bash 'pipe' command can connect such processes together\n",
    "\n",
    "#### Data Pipeline\n",
    "* Purpose is to move data from one place or form to another\n",
    "* Any system which extracts, transforms, and loads data\n",
    "\n",
    "##### Design Considerations\n",
    "Pipeline Latency - time it takes for a single packet of data to pass through the pipeline\n",
    "Throughput - number of data the can be fed through the pipeline per unit\n",
    "\n",
    "##### Use Cases\n",
    "* Backing up files - no change needed\n",
    "* Integrating disparate raw data sources into a data lake\n",
    "* Moving transactional records to a data warehouse\n",
    "* Streaming data from IoT devices to dashboards\n",
    "* Preparing raw data for machine learning development or production\n",
    "* Messaging systems such as email, SMS, video meetings\n",
    "\n"
   ]
  }
 ],
 "metadata": {
  "kernelspec": {
   "display_name": "Python 3",
   "language": "python",
   "name": "python3"
  },
  "language_info": {
   "codemirror_mode": {
    "name": "ipython",
    "version": 3
   },
   "file_extension": ".py",
   "mimetype": "text/x-python",
   "name": "python",
   "nbconvert_exporter": "python",
   "pygments_lexer": "ipython3",
   "version": "3.9.11"
  }
 },
 "nbformat": 4,
 "nbformat_minor": 5
}
